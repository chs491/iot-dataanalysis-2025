{
 "cells": [
  {
   "cell_type": "markdown",
   "id": "6027574c",
   "metadata": {},
   "source": [
    "## 딥러닝\n",
    "\n",
    "### 심층신경망"
   ]
  },
  {
   "cell_type": "code",
   "execution_count": 19,
   "id": "be95da68",
   "metadata": {},
   "outputs": [],
   "source": [
    "# 모듈 로드\n",
    "import tensorflow as tf\n",
    "from tensorflow import keras\n",
    "import numpy as np"
   ]
  },
  {
   "cell_type": "code",
   "execution_count": 20,
   "id": "04717851",
   "metadata": {},
   "outputs": [],
   "source": [
    "(train_input, train_target), (test_input, test_target) = keras.datasets.fashion_mnist.load_data()"
   ]
  },
  {
   "cell_type": "markdown",
   "id": "fd2fcae1",
   "metadata": {},
   "source": [
    "- 이미 이전장에서 다운로드 했기 때문에 다시 다운로드 하지 않음"
   ]
  },
  {
   "cell_type": "code",
   "execution_count": 21,
   "id": "936b932f",
   "metadata": {},
   "outputs": [],
   "source": [
    "\n",
    "from sklearn.model_selection import train_test_split\n",
    "from sklearn.preprocessing import StandardScaler"
   ]
  },
  {
   "cell_type": "code",
   "execution_count": 22,
   "id": "3f48e55c",
   "metadata": {},
   "outputs": [],
   "source": [
    "train_input = train_input.reshape(-1, 28*28)\n",
    "test_input = test_input.reshape(-1, 28*28)"
   ]
  },
  {
   "cell_type": "code",
   "execution_count": 23,
   "id": "cc4fd8b7",
   "metadata": {},
   "outputs": [],
   "source": [
    "# 스케일링\n",
    "scaler = StandardScaler()\n",
    "train_scaled = scaler.fit_transform(train_input.astype(np.float64))\n",
    "test_scaled = scaler.transform(test_input.astype(np.float64))"
   ]
  },
  {
   "cell_type": "code",
   "execution_count": 24,
   "id": "3a19be52",
   "metadata": {},
   "outputs": [],
   "source": [
    "# 훈련세트, 검증세트 분리\n",
    "train_scaled, val_scaled, train_target, val_target = train_test_split(\n",
    "    train_scaled, train_target, test_size=0.2\n",
    ")"
   ]
  },
  {
   "cell_type": "code",
   "execution_count": 26,
   "id": "4c16cc88",
   "metadata": {},
   "outputs": [
    {
     "name": "stdout",
     "output_type": "stream",
     "text": [
      "(48000, 784) (12000, 784) (10000, 784)\n",
      "(48000,) (12000,) (10000,)\n"
     ]
    }
   ],
   "source": [
    "print(train_scaled.shape, val_scaled.shape, test_scaled.shape)\n",
    "print(train_target.shape, val_target.shape, test_target.shape)"
   ]
  },
  {
   "cell_type": "markdown",
   "id": "09e66afb",
   "metadata": {},
   "source": [
    "##### 심층신경망 만들기"
   ]
  },
  {
   "cell_type": "code",
   "execution_count": 31,
   "id": "39ae6511",
   "metadata": {},
   "outputs": [],
   "source": [
    "# 밀집층 생성\n",
    "dense1 = keras.layers.Dense(100, activation='sigmoid', input_shape = (784, ), name = 'hidden')\n",
    "dense2 = keras.layers.Dense(10, activation='softmax', name='output')"
   ]
  },
  {
   "cell_type": "code",
   "execution_count": 32,
   "id": "e1d5021a",
   "metadata": {},
   "outputs": [],
   "source": [
    "# 신경망 모델 생성\n",
    "model = keras.Sequential([dense1, dense2])"
   ]
  },
  {
   "cell_type": "code",
   "execution_count": 33,
   "id": "0d9a39c8",
   "metadata": {},
   "outputs": [
    {
     "name": "stdout",
     "output_type": "stream",
     "text": [
      "Model: \"sequential_1\"\n",
      "_________________________________________________________________\n",
      " Layer (type)                Output Shape              Param #   \n",
      "=================================================================\n",
      " hidden (Dense)              (None, 100)               78500     \n",
      "                                                                 \n",
      " output (Dense)              (None, 10)                1010      \n",
      "                                                                 \n",
      "=================================================================\n",
      "Total params: 79510 (310.59 KB)\n",
      "Trainable params: 79510 (310.59 KB)\n",
      "Non-trainable params: 0 (0.00 Byte)\n",
      "_________________________________________________________________\n"
     ]
    }
   ],
   "source": [
    "# 모델 요약\n",
    "model.summary()"
   ]
  },
  {
   "cell_type": "markdown",
   "id": "38592add",
   "metadata": {},
   "source": [
    "#### 심층신경망 만들기2"
   ]
  },
  {
   "cell_type": "code",
   "execution_count": 39,
   "id": "472184ef",
   "metadata": {},
   "outputs": [],
   "source": [
    "model = keras.Sequential([\n",
    "    keras.layers.Dense(100, activation='sigmoid', input_shape = (784, ), name = 'hidden'),\n",
    "    keras.layers.Dense(10, activation='softmax', name='output')\n",
    "], name = 'Fashion_MNIST_Model')"
   ]
  },
  {
   "cell_type": "code",
   "execution_count": 40,
   "id": "dfc44c87",
   "metadata": {},
   "outputs": [
    {
     "name": "stdout",
     "output_type": "stream",
     "text": [
      "Model: \"Fashion_MNIST_Model\"\n",
      "_________________________________________________________________\n",
      " Layer (type)                Output Shape              Param #   \n",
      "=================================================================\n",
      " hidden (Dense)              (None, 100)               78500     \n",
      "                                                                 \n",
      " output (Dense)              (None, 10)                1010      \n",
      "                                                                 \n",
      "=================================================================\n",
      "Total params: 79510 (310.59 KB)\n",
      "Trainable params: 79510 (310.59 KB)\n",
      "Non-trainable params: 0 (0.00 Byte)\n",
      "_________________________________________________________________\n"
     ]
    }
   ],
   "source": [
    "model.summary()"
   ]
  },
  {
   "cell_type": "code",
   "execution_count": 44,
   "id": "b224fa89",
   "metadata": {},
   "outputs": [],
   "source": [
    "# 모델 훈련\n",
    "model.compile(loss='sparse_categorical_crossentropy', metrics='accuracy')"
   ]
  },
  {
   "cell_type": "code",
   "execution_count": 45,
   "id": "14272700",
   "metadata": {},
   "outputs": [
    {
     "name": "stdout",
     "output_type": "stream",
     "text": [
      "Epoch 1/100\n",
      "WARNING:tensorflow:From c:\\Source\\iot-dataanalysis-2025\\mlvenv\\Lib\\site-packages\\keras\\src\\utils\\tf_utils.py:492: The name tf.ragged.RaggedTensorValue is deprecated. Please use tf.compat.v1.ragged.RaggedTensorValue instead.\n",
      "\n",
      "WARNING:tensorflow:From c:\\Source\\iot-dataanalysis-2025\\mlvenv\\Lib\\site-packages\\keras\\src\\engine\\base_layer_utils.py:384: The name tf.executing_eagerly_outside_functions is deprecated. Please use tf.compat.v1.executing_eagerly_outside_functions instead.\n",
      "\n",
      "1500/1500 [==============================] - 2s 918us/step - loss: 0.4677 - accuracy: 0.8367\n",
      "Epoch 2/100\n",
      "1500/1500 [==============================] - 1s 885us/step - loss: 0.3525 - accuracy: 0.8717\n",
      "Epoch 3/100\n",
      "1500/1500 [==============================] - 1s 869us/step - loss: 0.3170 - accuracy: 0.8855\n",
      "Epoch 4/100\n",
      "1500/1500 [==============================] - 1s 884us/step - loss: 0.2922 - accuracy: 0.8958\n",
      "Epoch 5/100\n",
      "1500/1500 [==============================] - 1s 873us/step - loss: 0.2725 - accuracy: 0.9023\n",
      "Epoch 6/100\n",
      "1500/1500 [==============================] - 1s 859us/step - loss: 0.2562 - accuracy: 0.9087\n",
      "Epoch 7/100\n",
      "1500/1500 [==============================] - 1s 854us/step - loss: 0.2421 - accuracy: 0.9145\n",
      "Epoch 8/100\n",
      "1500/1500 [==============================] - 1s 856us/step - loss: 0.2282 - accuracy: 0.9189\n",
      "Epoch 9/100\n",
      "1500/1500 [==============================] - 1s 846us/step - loss: 0.2168 - accuracy: 0.9225\n",
      "Epoch 10/100\n",
      "1500/1500 [==============================] - 1s 861us/step - loss: 0.2057 - accuracy: 0.9285\n",
      "Epoch 11/100\n",
      "1500/1500 [==============================] - 1s 862us/step - loss: 0.1951 - accuracy: 0.9314\n",
      "Epoch 12/100\n",
      "1500/1500 [==============================] - 1s 851us/step - loss: 0.1863 - accuracy: 0.9359\n",
      "Epoch 13/100\n",
      "1500/1500 [==============================] - 1s 868us/step - loss: 0.1768 - accuracy: 0.9391\n",
      "Epoch 14/100\n",
      "1500/1500 [==============================] - 1s 858us/step - loss: 0.1688 - accuracy: 0.9415\n",
      "Epoch 15/100\n",
      "1500/1500 [==============================] - 1s 854us/step - loss: 0.1608 - accuracy: 0.9451\n",
      "Epoch 16/100\n",
      "1500/1500 [==============================] - 1s 868us/step - loss: 0.1537 - accuracy: 0.9479\n",
      "Epoch 17/100\n",
      "1500/1500 [==============================] - 1s 867us/step - loss: 0.1466 - accuracy: 0.9502\n",
      "Epoch 18/100\n",
      "1500/1500 [==============================] - 1s 858us/step - loss: 0.1386 - accuracy: 0.9537\n",
      "Epoch 19/100\n",
      "1500/1500 [==============================] - 1s 854us/step - loss: 0.1320 - accuracy: 0.9557\n",
      "Epoch 20/100\n",
      "1500/1500 [==============================] - 1s 887us/step - loss: 0.1258 - accuracy: 0.9579\n",
      "Epoch 21/100\n",
      "1500/1500 [==============================] - 1s 856us/step - loss: 0.1203 - accuracy: 0.9600\n",
      "Epoch 22/100\n",
      "1500/1500 [==============================] - 1s 876us/step - loss: 0.1143 - accuracy: 0.9623\n",
      "Epoch 23/100\n",
      "1500/1500 [==============================] - 1s 853us/step - loss: 0.1091 - accuracy: 0.9646\n",
      "Epoch 24/100\n",
      "1500/1500 [==============================] - 1s 874us/step - loss: 0.1050 - accuracy: 0.9666\n",
      "Epoch 25/100\n",
      "1500/1500 [==============================] - 1s 875us/step - loss: 0.1002 - accuracy: 0.9675\n",
      "Epoch 26/100\n",
      "1500/1500 [==============================] - 1s 875us/step - loss: 0.0941 - accuracy: 0.9695\n",
      "Epoch 27/100\n",
      "1500/1500 [==============================] - 1s 866us/step - loss: 0.0904 - accuracy: 0.9711\n",
      "Epoch 28/100\n",
      "1500/1500 [==============================] - 1s 878us/step - loss: 0.0861 - accuracy: 0.9726\n",
      "Epoch 29/100\n",
      "1500/1500 [==============================] - 1s 889us/step - loss: 0.0821 - accuracy: 0.9737\n",
      "Epoch 30/100\n",
      "1500/1500 [==============================] - 1s 869us/step - loss: 0.0785 - accuracy: 0.9756\n",
      "Epoch 31/100\n",
      "1500/1500 [==============================] - 1s 858us/step - loss: 0.0740 - accuracy: 0.9766\n",
      "Epoch 32/100\n",
      "1500/1500 [==============================] - 1s 851us/step - loss: 0.0718 - accuracy: 0.9772\n",
      "Epoch 33/100\n",
      "1500/1500 [==============================] - 1s 855us/step - loss: 0.0686 - accuracy: 0.9780\n",
      "Epoch 34/100\n",
      "1500/1500 [==============================] - 1s 861us/step - loss: 0.0652 - accuracy: 0.9800\n",
      "Epoch 35/100\n",
      "1500/1500 [==============================] - 1s 873us/step - loss: 0.0621 - accuracy: 0.9816\n",
      "Epoch 36/100\n",
      "1500/1500 [==============================] - 1s 869us/step - loss: 0.0593 - accuracy: 0.9813\n",
      "Epoch 37/100\n",
      "1500/1500 [==============================] - 1s 872us/step - loss: 0.0557 - accuracy: 0.9834\n",
      "Epoch 38/100\n",
      "1500/1500 [==============================] - 1s 895us/step - loss: 0.0540 - accuracy: 0.9840\n",
      "Epoch 39/100\n",
      "1500/1500 [==============================] - 1s 880us/step - loss: 0.0505 - accuracy: 0.9850\n",
      "Epoch 40/100\n",
      "1500/1500 [==============================] - 1s 896us/step - loss: 0.0485 - accuracy: 0.9855\n",
      "Epoch 41/100\n",
      "1500/1500 [==============================] - 1s 904us/step - loss: 0.0467 - accuracy: 0.9863\n",
      "Epoch 42/100\n",
      "1500/1500 [==============================] - 1s 869us/step - loss: 0.0440 - accuracy: 0.9870\n",
      "Epoch 43/100\n",
      "1500/1500 [==============================] - 1s 906us/step - loss: 0.0426 - accuracy: 0.9877\n",
      "Epoch 44/100\n",
      "1500/1500 [==============================] - 1s 869us/step - loss: 0.0401 - accuracy: 0.9881\n",
      "Epoch 45/100\n",
      "1500/1500 [==============================] - 1s 887us/step - loss: 0.0385 - accuracy: 0.9889\n",
      "Epoch 46/100\n",
      "1500/1500 [==============================] - 1s 880us/step - loss: 0.0366 - accuracy: 0.9896\n",
      "Epoch 47/100\n",
      "1500/1500 [==============================] - 1s 899us/step - loss: 0.0349 - accuracy: 0.9902\n",
      "Epoch 48/100\n",
      "1500/1500 [==============================] - 1s 904us/step - loss: 0.0338 - accuracy: 0.9902\n",
      "Epoch 49/100\n",
      "1500/1500 [==============================] - 1s 897us/step - loss: 0.0325 - accuracy: 0.9908\n",
      "Epoch 50/100\n",
      "1500/1500 [==============================] - 1s 892us/step - loss: 0.0303 - accuracy: 0.9914\n",
      "Epoch 51/100\n",
      "1500/1500 [==============================] - 1s 892us/step - loss: 0.0283 - accuracy: 0.9926\n",
      "Epoch 52/100\n",
      "1500/1500 [==============================] - 1s 911us/step - loss: 0.0276 - accuracy: 0.9922\n",
      "Epoch 53/100\n",
      "1500/1500 [==============================] - 1s 882us/step - loss: 0.0262 - accuracy: 0.9930\n",
      "Epoch 54/100\n",
      "1500/1500 [==============================] - 1s 900us/step - loss: 0.0248 - accuracy: 0.9935\n",
      "Epoch 55/100\n",
      "1500/1500 [==============================] - 1s 887us/step - loss: 0.0239 - accuracy: 0.9937\n",
      "Epoch 56/100\n",
      "1500/1500 [==============================] - 1s 901us/step - loss: 0.0222 - accuracy: 0.9942\n",
      "Epoch 57/100\n",
      "1500/1500 [==============================] - 1s 899us/step - loss: 0.0216 - accuracy: 0.9945\n",
      "Epoch 58/100\n",
      "1500/1500 [==============================] - 1s 938us/step - loss: 0.0209 - accuracy: 0.9944\n",
      "Epoch 59/100\n",
      "1500/1500 [==============================] - 1s 869us/step - loss: 0.0195 - accuracy: 0.9948\n",
      "Epoch 60/100\n",
      "1500/1500 [==============================] - 1s 870us/step - loss: 0.0187 - accuracy: 0.9950\n",
      "Epoch 61/100\n",
      "1500/1500 [==============================] - 1s 864us/step - loss: 0.0185 - accuracy: 0.9951\n",
      "Epoch 62/100\n",
      "1500/1500 [==============================] - 1s 879us/step - loss: 0.0172 - accuracy: 0.9952\n",
      "Epoch 63/100\n",
      "1500/1500 [==============================] - 1s 869us/step - loss: 0.0163 - accuracy: 0.9959\n",
      "Epoch 64/100\n",
      "1500/1500 [==============================] - 1s 896us/step - loss: 0.0154 - accuracy: 0.9965\n",
      "Epoch 65/100\n",
      "1500/1500 [==============================] - 1s 869us/step - loss: 0.0142 - accuracy: 0.9965\n",
      "Epoch 66/100\n",
      "1500/1500 [==============================] - 1s 867us/step - loss: 0.0144 - accuracy: 0.9962\n",
      "Epoch 67/100\n",
      "1500/1500 [==============================] - 1s 880us/step - loss: 0.0135 - accuracy: 0.9966\n",
      "Epoch 68/100\n",
      "1500/1500 [==============================] - 1s 872us/step - loss: 0.0126 - accuracy: 0.9972\n",
      "Epoch 69/100\n",
      "1500/1500 [==============================] - 1s 882us/step - loss: 0.0121 - accuracy: 0.9974\n",
      "Epoch 70/100\n",
      "1500/1500 [==============================] - 1s 898us/step - loss: 0.0109 - accuracy: 0.9975\n",
      "Epoch 71/100\n",
      "1500/1500 [==============================] - 1s 887us/step - loss: 0.0111 - accuracy: 0.9976\n",
      "Epoch 72/100\n",
      "1500/1500 [==============================] - 1s 894us/step - loss: 0.0102 - accuracy: 0.9976\n",
      "Epoch 73/100\n",
      "1500/1500 [==============================] - 1s 895us/step - loss: 0.0095 - accuracy: 0.9977\n",
      "Epoch 74/100\n",
      "1500/1500 [==============================] - 1s 905us/step - loss: 0.0093 - accuracy: 0.9980\n",
      "Epoch 75/100\n",
      "1500/1500 [==============================] - 1s 868us/step - loss: 0.0084 - accuracy: 0.9982\n",
      "Epoch 76/100\n",
      "1500/1500 [==============================] - 1s 887us/step - loss: 0.0080 - accuracy: 0.9982\n",
      "Epoch 77/100\n",
      "1500/1500 [==============================] - 1s 877us/step - loss: 0.0084 - accuracy: 0.9981\n",
      "Epoch 78/100\n",
      "1500/1500 [==============================] - 1s 885us/step - loss: 0.0072 - accuracy: 0.9985\n",
      "Epoch 79/100\n",
      "1500/1500 [==============================] - 1s 898us/step - loss: 0.0071 - accuracy: 0.9986\n",
      "Epoch 80/100\n",
      "1500/1500 [==============================] - 1s 867us/step - loss: 0.0062 - accuracy: 0.9989\n",
      "Epoch 81/100\n",
      "1500/1500 [==============================] - 1s 879us/step - loss: 0.0056 - accuracy: 0.9990\n",
      "Epoch 82/100\n",
      "1500/1500 [==============================] - 1s 890us/step - loss: 0.0054 - accuracy: 0.9990\n",
      "Epoch 83/100\n",
      "1500/1500 [==============================] - 1s 886us/step - loss: 0.0051 - accuracy: 0.9991\n",
      "Epoch 84/100\n",
      "1500/1500 [==============================] - 1s 865us/step - loss: 0.0054 - accuracy: 0.9990\n",
      "Epoch 85/100\n",
      "1500/1500 [==============================] - 1s 906us/step - loss: 0.0046 - accuracy: 0.9992\n",
      "Epoch 86/100\n",
      "1500/1500 [==============================] - 1s 859us/step - loss: 0.0041 - accuracy: 0.9994\n",
      "Epoch 87/100\n",
      "1500/1500 [==============================] - 1s 884us/step - loss: 0.0038 - accuracy: 0.9992\n",
      "Epoch 88/100\n",
      "1500/1500 [==============================] - 1s 863us/step - loss: 0.0041 - accuracy: 0.9991\n",
      "Epoch 89/100\n",
      "1500/1500 [==============================] - 1s 861us/step - loss: 0.0040 - accuracy: 0.9991\n",
      "Epoch 90/100\n",
      "1500/1500 [==============================] - 1s 854us/step - loss: 0.0032 - accuracy: 0.9994\n",
      "Epoch 91/100\n",
      "1500/1500 [==============================] - 1s 905us/step - loss: 0.0031 - accuracy: 0.9994\n",
      "Epoch 92/100\n",
      "1500/1500 [==============================] - 1s 884us/step - loss: 0.0034 - accuracy: 0.9994\n",
      "Epoch 93/100\n",
      "1500/1500 [==============================] - 1s 914us/step - loss: 0.0027 - accuracy: 0.9995\n",
      "Epoch 94/100\n",
      "1500/1500 [==============================] - 1s 893us/step - loss: 0.0026 - accuracy: 0.9995\n",
      "Epoch 95/100\n",
      "1500/1500 [==============================] - 1s 901us/step - loss: 0.0026 - accuracy: 0.9995\n",
      "Epoch 96/100\n",
      "1500/1500 [==============================] - 1s 899us/step - loss: 0.0021 - accuracy: 0.9997\n",
      "Epoch 97/100\n",
      "1500/1500 [==============================] - 1s 883us/step - loss: 0.0018 - accuracy: 0.9998\n",
      "Epoch 98/100\n",
      "1500/1500 [==============================] - 1s 895us/step - loss: 0.0018 - accuracy: 0.9998\n",
      "Epoch 99/100\n",
      "1500/1500 [==============================] - 1s 887us/step - loss: 0.0020 - accuracy: 0.9997\n",
      "Epoch 100/100\n",
      "1500/1500 [==============================] - 1s 866us/step - loss: 0.0013 - accuracy: 0.9999\n"
     ]
    },
    {
     "data": {
      "text/plain": [
       "<keras.src.callbacks.History at 0x21fb6c41dd0>"
      ]
     },
     "execution_count": 45,
     "metadata": {},
     "output_type": "execute_result"
    }
   ],
   "source": [
    "model.fit(train_scaled, train_target, epochs=100)"
   ]
  },
  {
   "cell_type": "code",
   "execution_count": null,
   "id": "a1198f67",
   "metadata": {},
   "outputs": [
    {
     "name": "stdout",
     "output_type": "stream",
     "text": [
      "375/375 [==============================] - 0s 716us/step - loss: 0.8836 - accuracy: 0.8737\n"
     ]
    },
    {
     "data": {
      "text/plain": [
       "[0.8836357593536377, 0.8736666440963745]"
      ]
     },
     "execution_count": 46,
     "metadata": {},
     "output_type": "execute_result"
    }
   ],
   "source": [
    "model.evaluate(val_scaled, val_target)\n",
    "# 검증 정확도 : 87.8%"
   ]
  },
  {
   "cell_type": "code",
   "execution_count": 48,
   "id": "76aa3243",
   "metadata": {},
   "outputs": [
    {
     "name": "stdout",
     "output_type": "stream",
     "text": [
      "313/313 [==============================] - 0s 683us/step\n"
     ]
    }
   ],
   "source": [
    "pred_result = model.predict(test_scaled)"
   ]
  },
  {
   "cell_type": "code",
   "execution_count": 49,
   "id": "9393fe11",
   "metadata": {},
   "outputs": [],
   "source": [
    "import matplotlib.pyplot as plt\n",
    "import seaborn as sns\n",
    "import numpy as np"
   ]
  },
  {
   "cell_type": "code",
   "execution_count": 50,
   "id": "927cef41",
   "metadata": {},
   "outputs": [],
   "source": [
    "# 한글로 Matplotlib 사용시 항상 필요\n",
    "from matplotlib import rcParams, font_manager, rc\n",
    "\n",
    "font_path = 'C:/Windows/Fonts/malgun.ttf'\n",
    "font = font_manager.FontProperties(fname=font_path).get_name()\n",
    "rc('font', family=font)\n",
    "rcParams['axes.unicode_minus'] = False\n",
    "\n",
    "sns.set_style('darkgrid')\n",
    "sns.set_theme(font='Malgun Gothic', rc={'axes.unicode_minus': False})"
   ]
  },
  {
   "cell_type": "code",
   "execution_count": 55,
   "id": "691b8580",
   "metadata": {},
   "outputs": [],
   "source": [
    "class_names = ['티셔츠', '바지', '스웨터', '드레스', '코트', '샌달', '셔츠', '스니커즈', '가방', '앵클부츠']"
   ]
  },
  {
   "cell_type": "code",
   "execution_count": 56,
   "id": "7353bf24",
   "metadata": {},
   "outputs": [],
   "source": [
    "# 테스트이미지와 예측결과 시각화\n",
    "def show_image(index):\n",
    "    plt.figure(figsize=(2,2))\n",
    "    plt.imshow(test_input[index].reshape(28, 28), cmap='gray_r')\n",
    "    true_label = class_names[test_target[index]]\n",
    "    pred_label = class_names[np.argmax(pred_result[index])]\n",
    "    plt.title(f'실제: {true_label}, 예측: {pred_label}')\n",
    "    plt.axis('off')\n",
    "    plt.show()"
   ]
  },
  {
   "cell_type": "code",
   "execution_count": 57,
   "id": "911ea205",
   "metadata": {},
   "outputs": [
    {
     "data": {
      "image/png": "[encoded data removed]",
      "text/plain": [
       "<Figure size 200x200 with 1 Axes>"
      ]
     },
     "metadata": {},
     "output_type": "display_data"
    },
    {
     "data": {
      "image/png": "[encoded data removed]",
      "text/plain": [
       "<Figure size 200x200 with 1 Axes>"
      ]
     },
     "metadata": {},
     "output_type": "display_data"
    },
    {
     "data": {
      "image/png": "[encoded data removed]",
      "text/plain": [
       "<Figure size 200x200 with 1 Axes>"
      ]
     },
     "metadata": {},
     "output_type": "display_data"
    },
    {
     "data": {
      "image/png": "[encoded data removed]",
      "text/plain": [
       "<Figure size 200x200 with 1 Axes>"
      ]
     },
     "metadata": {},
     "output_type": "display_data"
    },
    {
     "data": {
      "image/png": "[encoded data removed]",
      "text/plain": [
       "<Figure size 200x200 with 1 Axes>"
      ]
     },
     "metadata": {},
     "output_type": "display_data"
    },
    {
     "data": {
      "image/png": "[encoded data removed]",
      "text/plain": [
       "<Figure size 200x200 with 1 Axes>"
      ]
     },
     "metadata": {},
     "output_type": "display_data"
    }
   ],
   "source": [
    "for i in range(11,17):\n",
    "    show_image(i)"
   ]
  },
  {
   "cell_type": "markdown",
   "id": "1c5afdd8",
   "metadata": {},
   "source": [
    "#### 렐루 함수\n",
    "\n",
    "- 인공신경망 은닉층에 초기에는 Sigmoid 함수 사용\n",
    "    - 단점 : 오른쪽, 왼쪽 끝으로 갈수록 그래프가 누워있어서 올바를 출력을 못만듬\n",
    "\n",
    "- 렐루함수(ReLU) : 수정된 선형유닛 뜻의 함수     \n",
    "\n",
    "    <img src = \"../image/ml1011.png\" width = \"500\">"
   ]
  },
  {
   "cell_type": "markdown",
   "id": "bea241cb",
   "metadata": {},
   "source": [
    "#### Flatten 객체\n",
    "- 이미지 2차원배열을 1차원으로 변경할 때 np.reshape() 사용\n",
    "- Flatten 클래스가 위의 일을 대신해줌"
   ]
  },
  {
   "cell_type": "code",
   "execution_count": 58,
   "id": "f2ec2d7f",
   "metadata": {},
   "outputs": [],
   "source": [
    "model2 = keras.Sequential([\n",
    "    keras.layers.Flatten(input_shape=(28,28), name = 'Flatten'),\n",
    "    keras.layers.Dense(100, activation='relu', name = 'hidden'),\n",
    "    keras.layers.Dense(10, activation='softmax', name='output')\n",
    "], name='Fashion_MNIST_RELU')"
   ]
  },
  {
   "cell_type": "code",
   "execution_count": 59,
   "id": "cff728d6",
   "metadata": {},
   "outputs": [
    {
     "name": "stdout",
     "output_type": "stream",
     "text": [
      "Model: \"Fashion_MNIST_RELU\"\n",
      "_________________________________________________________________\n",
      " Layer (type)                Output Shape              Param #   \n",
      "=================================================================\n",
      " Flatten (Flatten)           (None, 784)               0         \n",
      "                                                                 \n",
      " hidden (Dense)              (None, 100)               78500     \n",
      "                                                                 \n",
      " output (Dense)              (None, 10)                1010      \n",
      "                                                                 \n",
      "=================================================================\n",
      "Total params: 79510 (310.59 KB)\n",
      "Trainable params: 79510 (310.59 KB)\n",
      "Non-trainable params: 0 (0.00 Byte)\n",
      "_________________________________________________________________\n"
     ]
    }
   ],
   "source": [
    "model2.summary()"
   ]
  },
  {
   "cell_type": "code",
   "execution_count": 60,
   "id": "abfa98fa",
   "metadata": {},
   "outputs": [],
   "source": [
    "(train_input, train_target), (test_input, test_target) = keras.datasets.fashion_mnist.load_data()"
   ]
  },
  {
   "cell_type": "code",
   "execution_count": 62,
   "id": "62ac6c0f",
   "metadata": {},
   "outputs": [],
   "source": [
    "train_scaled = train_input / 255.0\n",
    "test_scaled = test_input / 255.0"
   ]
  },
  {
   "cell_type": "code",
   "execution_count": 63,
   "id": "cb0554c3",
   "metadata": {},
   "outputs": [],
   "source": [
    "# 훈련세트, 검증세트 분리\n",
    "train_scaled, val_scaled, train_target, val_target = train_test_split(\n",
    "    train_scaled, train_target, test_size=0.2, random_state=42\n",
    ")"
   ]
  },
  {
   "cell_type": "code",
   "execution_count": 64,
   "id": "8ab68841",
   "metadata": {},
   "outputs": [],
   "source": [
    "# 모델 설정\n",
    "model2.compile(loss='sparse_categorical_crossentropy', metrics='accuracy')"
   ]
  },
  {
   "cell_type": "code",
   "execution_count": 65,
   "id": "a59f63c9",
   "metadata": {},
   "outputs": [
    {
     "name": "stdout",
     "output_type": "stream",
     "text": [
      "Epoch 1/20\n",
      "1500/1500 [==============================] - 2s 893us/step - loss: 0.5356 - accuracy: 0.8121\n",
      "Epoch 2/20\n",
      "1500/1500 [==============================] - 1s 912us/step - loss: 0.3933 - accuracy: 0.8584\n",
      "Epoch 3/20\n",
      "1500/1500 [==============================] - 1s 906us/step - loss: 0.3532 - accuracy: 0.8719\n",
      "Epoch 4/20\n",
      "1500/1500 [==============================] - 1s 894us/step - loss: 0.3323 - accuracy: 0.8802\n",
      "Epoch 5/20\n",
      "1500/1500 [==============================] - 1s 927us/step - loss: 0.3178 - accuracy: 0.8869\n",
      "Epoch 6/20\n",
      "1500/1500 [==============================] - 1s 920us/step - loss: 0.3057 - accuracy: 0.8904\n",
      "Epoch 7/20\n",
      "1500/1500 [==============================] - 1s 911us/step - loss: 0.2920 - accuracy: 0.8963\n",
      "Epoch 8/20\n",
      "1500/1500 [==============================] - 1s 908us/step - loss: 0.2859 - accuracy: 0.8979\n",
      "Epoch 9/20\n",
      "1500/1500 [==============================] - 1s 896us/step - loss: 0.2787 - accuracy: 0.9008\n",
      "Epoch 10/20\n",
      "1500/1500 [==============================] - 1s 916us/step - loss: 0.2732 - accuracy: 0.9027\n",
      "Epoch 11/20\n",
      "1500/1500 [==============================] - 1s 938us/step - loss: 0.2651 - accuracy: 0.9065\n",
      "Epoch 12/20\n",
      "1500/1500 [==============================] - 1s 899us/step - loss: 0.2594 - accuracy: 0.9097\n",
      "Epoch 13/20\n",
      "1500/1500 [==============================] - 1s 884us/step - loss: 0.2533 - accuracy: 0.9119\n",
      "Epoch 14/20\n",
      "1500/1500 [==============================] - 1s 901us/step - loss: 0.2503 - accuracy: 0.9138\n",
      "Epoch 15/20\n",
      "1500/1500 [==============================] - 1s 909us/step - loss: 0.2462 - accuracy: 0.9137\n",
      "Epoch 16/20\n",
      "1500/1500 [==============================] - 1s 883us/step - loss: 0.2384 - accuracy: 0.9172\n",
      "Epoch 17/20\n",
      "1500/1500 [==============================] - 1s 893us/step - loss: 0.2394 - accuracy: 0.9179\n",
      "Epoch 18/20\n",
      "1500/1500 [==============================] - 1s 894us/step - loss: 0.2315 - accuracy: 0.9196\n",
      "Epoch 19/20\n",
      "1500/1500 [==============================] - 1s 883us/step - loss: 0.2256 - accuracy: 0.9217\n",
      "Epoch 20/20\n",
      "1500/1500 [==============================] - 1s 893us/step - loss: 0.2240 - accuracy: 0.9226\n"
     ]
    },
    {
     "data": {
      "text/plain": [
       "<keras.src.callbacks.History at 0x21fb9860110>"
      ]
     },
     "execution_count": 65,
     "metadata": {},
     "output_type": "execute_result"
    }
   ],
   "source": [
    "# 모델 훈련\n",
    "model2.fit(train_scaled, train_target, epochs=20)"
   ]
  },
  {
   "cell_type": "code",
   "execution_count": null,
   "id": "299a9d87",
   "metadata": {},
   "outputs": [
    {
     "name": "stdout",
     "output_type": "stream",
     "text": [
      "375/375 [==============================] - 0s 771us/step - loss: 0.4737 - accuracy: 0.8744\n"
     ]
    },
    {
     "data": {
      "text/plain": [
       "[0.47366559505462646, 0.8744166493415833]"
      ]
     },
     "execution_count": 66,
     "metadata": {},
     "output_type": "execute_result"
    }
   ],
   "source": [
    "model2.evaluate(val_scaled, val_target)\n",
    "# ReLU 함수 사용시, Sigmoid 함수 사용시 0.01% 개선"
   ]
  },
  {
   "cell_type": "markdown",
   "id": "09e11488",
   "metadata": {},
   "source": [
    "#### 옵티마이저\n",
    "- 하이퍼파라미터 값 최적화"
   ]
  },
  {
   "cell_type": "code",
   "execution_count": 67,
   "id": "188c83ef",
   "metadata": {},
   "outputs": [],
   "source": [
    "model3 = keras.Sequential([\n",
    "    keras.layers.Flatten(input_shape=(28,28), name = 'Flatten'),\n",
    "    keras.layers.Dense(100, activation='relu', name = 'hidden'),\n",
    "    keras.layers.Dense(10, activation='softmax', name='output')\n",
    "], name='Fashion_MNIST_RELU')"
   ]
  },
  {
   "cell_type": "code",
   "execution_count": 72,
   "id": "d3aa3414",
   "metadata": {},
   "outputs": [],
   "source": [
    "# 모델3 설정, 최적화는 adam클래스만 사용할 것\n",
    "model3.compile(loss='sparse_categorical_crossentropy', metrics='accuracy', optimizer='adam')"
   ]
  },
  {
   "cell_type": "code",
   "execution_count": 75,
   "id": "4d641669",
   "metadata": {},
   "outputs": [
    {
     "name": "stdout",
     "output_type": "stream",
     "text": [
      "Epoch 1/20\n",
      "1500/1500 [==============================] - 1s 895us/step - loss: 0.1823 - accuracy: 0.9321\n",
      "Epoch 2/20\n",
      "1500/1500 [==============================] - 1s 920us/step - loss: 0.1760 - accuracy: 0.9348\n",
      "Epoch 3/20\n",
      "1500/1500 [==============================] - 1s 900us/step - loss: 0.1719 - accuracy: 0.9352\n",
      "Epoch 4/20\n",
      "1500/1500 [==============================] - 1s 891us/step - loss: 0.1660 - accuracy: 0.9386\n",
      "Epoch 5/20\n",
      "1500/1500 [==============================] - 1s 889us/step - loss: 0.1656 - accuracy: 0.9379\n",
      "Epoch 6/20\n",
      "1500/1500 [==============================] - 1s 904us/step - loss: 0.1601 - accuracy: 0.9397\n",
      "Epoch 7/20\n",
      "1500/1500 [==============================] - 1s 894us/step - loss: 0.1575 - accuracy: 0.9409\n",
      "Epoch 8/20\n",
      "1500/1500 [==============================] - 1s 909us/step - loss: 0.1547 - accuracy: 0.9419\n",
      "Epoch 9/20\n",
      "1500/1500 [==============================] - 1s 927us/step - loss: 0.1482 - accuracy: 0.9433\n",
      "Epoch 10/20\n",
      "1500/1500 [==============================] - 1s 950us/step - loss: 0.1484 - accuracy: 0.9439\n",
      "Epoch 11/20\n",
      "1500/1500 [==============================] - 1s 969us/step - loss: 0.1439 - accuracy: 0.9463\n",
      "Epoch 12/20\n",
      "1500/1500 [==============================] - 1s 958us/step - loss: 0.1417 - accuracy: 0.9464\n",
      "Epoch 13/20\n",
      "1500/1500 [==============================] - 1s 939us/step - loss: 0.1403 - accuracy: 0.9488\n",
      "Epoch 14/20\n",
      "1500/1500 [==============================] - 1s 945us/step - loss: 0.1335 - accuracy: 0.9499\n",
      "Epoch 15/20\n",
      "1500/1500 [==============================] - 1s 966us/step - loss: 0.1311 - accuracy: 0.9509\n",
      "Epoch 16/20\n",
      "1500/1500 [==============================] - 1s 940us/step - loss: 0.1292 - accuracy: 0.9525\n",
      "Epoch 17/20\n",
      "1500/1500 [==============================] - 1s 903us/step - loss: 0.1249 - accuracy: 0.9530\n",
      "Epoch 18/20\n",
      "1500/1500 [==============================] - 1s 940us/step - loss: 0.1248 - accuracy: 0.9543\n",
      "Epoch 19/20\n",
      "1500/1500 [==============================] - 1s 904us/step - loss: 0.1212 - accuracy: 0.9550\n",
      "Epoch 20/20\n",
      "1500/1500 [==============================] - 1s 913us/step - loss: 0.1194 - accuracy: 0.9554\n"
     ]
    },
    {
     "data": {
      "text/plain": [
       "<keras.src.callbacks.History at 0x21fb295c350>"
      ]
     },
     "execution_count": 75,
     "metadata": {},
     "output_type": "execute_result"
    }
   ],
   "source": [
    "# 모델 훈련. 모델훈련은 정보를 저장하기 때문에 다시 수행하면 정확도가 높아진다.\n",
    "model3.fit(train_scaled, train_target, epochs=20)"
   ]
  },
  {
   "cell_type": "markdown",
   "id": "4b71ef01",
   "metadata": {},
   "source": [
    "- optimizer 사용시 0.01정도 개선"
   ]
  },
  {
   "cell_type": "code",
   "execution_count": null,
   "id": "7a2a2b43",
   "metadata": {},
   "outputs": [
    {
     "name": "stdout",
     "output_type": "stream",
     "text": [
      "375/375 [==============================] - 0s 718us/step - loss: 0.4075 - accuracy: 0.8929\n"
     ]
    },
    {
     "data": {
      "text/plain": [
       "[0.40753912925720215, 0.8929166793823242]"
      ]
     },
     "execution_count": 76,
     "metadata": {},
     "output_type": "execute_result"
    }
   ],
   "source": [
    "model3.evaluate(val_scaled, val_target)\n",
    "# 훈련 95%, 검증 88% - 7정도 차이"
   ]
  },
  {
   "cell_type": "markdown",
   "id": "cf24d0e2",
   "metadata": {},
   "source": [
    "#### 드롭아웃\n",
    "- 훈련과정 밀집층에 일부 뉴런을 꺼버림."
   ]
  },
  {
   "cell_type": "code",
   "execution_count": 77,
   "id": "f260d2d5",
   "metadata": {},
   "outputs": [],
   "source": [
    "model4 = keras.Sequential([\n",
    "    keras.layers.Flatten(input_shape=(28,28), name = 'Flatten'),\n",
    "    keras.layers.Dense(100, activation='relu', name = 'hidden'),\n",
    "    keras.layers.Dropout(0.3, name = 'dropout'),\n",
    "    keras.layers.Dense(10, activation='softmax', name='output')\n",
    "], name='Fashion_MNIST_RELU')"
   ]
  },
  {
   "cell_type": "code",
   "execution_count": 78,
   "id": "0492b3a2",
   "metadata": {},
   "outputs": [
    {
     "name": "stdout",
     "output_type": "stream",
     "text": [
      "Model: \"Fashion_MNIST_RELU\"\n",
      "_________________________________________________________________\n",
      " Layer (type)                Output Shape              Param #   \n",
      "=================================================================\n",
      " Flatten (Flatten)           (None, 784)               0         \n",
      "                                                                 \n",
      " hidden (Dense)              (None, 100)               78500     \n",
      "                                                                 \n",
      " dropout (Dropout)           (None, 100)               0         \n",
      "                                                                 \n",
      " output (Dense)              (None, 10)                1010      \n",
      "                                                                 \n",
      "=================================================================\n",
      "Total params: 79510 (310.59 KB)\n",
      "Trainable params: 79510 (310.59 KB)\n",
      "Non-trainable params: 0 (0.00 Byte)\n",
      "_________________________________________________________________\n"
     ]
    }
   ],
   "source": [
    "model4.summary()"
   ]
  },
  {
   "cell_type": "code",
   "execution_count": 79,
   "id": "253beaa2",
   "metadata": {},
   "outputs": [],
   "source": [
    "model4.compile(loss='sparse_categorical_crossentropy', metrics='accuracy', optimizer='adam')"
   ]
  },
  {
   "cell_type": "code",
   "execution_count": null,
   "id": "948a2ef4",
   "metadata": {},
   "outputs": [
    {
     "name": "stdout",
     "output_type": "stream",
     "text": [
      "Epoch 1/20\n",
      "1500/1500 [==============================] - 2s 958us/step - loss: 0.5927 - accuracy: 0.7904\n",
      "Epoch 2/20\n",
      "1500/1500 [==============================] - 1s 954us/step - loss: 0.4364 - accuracy: 0.8432\n",
      "Epoch 3/20\n",
      "1500/1500 [==============================] - 1s 942us/step - loss: 0.4045 - accuracy: 0.8509\n",
      "Epoch 4/20\n",
      "1500/1500 [==============================] - 1s 920us/step - loss: 0.3794 - accuracy: 0.8614\n",
      "Epoch 5/20\n",
      "1500/1500 [==============================] - 1s 933us/step - loss: 0.3653 - accuracy: 0.8667\n",
      "Epoch 6/20\n",
      "1500/1500 [==============================] - 1s 945us/step - loss: 0.3548 - accuracy: 0.8691\n",
      "Epoch 7/20\n",
      "1500/1500 [==============================] - 1s 936us/step - loss: 0.3454 - accuracy: 0.8724\n",
      "Epoch 8/20\n",
      "1500/1500 [==============================] - 1s 967us/step - loss: 0.3326 - accuracy: 0.8782\n",
      "Epoch 9/20\n",
      "1500/1500 [==============================] - 1s 969us/step - loss: 0.3283 - accuracy: 0.8781\n",
      "Epoch 10/20\n",
      "1500/1500 [==============================] - 1s 965us/step - loss: 0.3231 - accuracy: 0.8798\n",
      "Epoch 11/20\n",
      "1500/1500 [==============================] - 1s 973us/step - loss: 0.3138 - accuracy: 0.8823\n",
      "Epoch 12/20\n",
      "1500/1500 [==============================] - 1s 969us/step - loss: 0.3090 - accuracy: 0.8846\n",
      "Epoch 13/20\n",
      "1500/1500 [==============================] - 1s 981us/step - loss: 0.3067 - accuracy: 0.8863\n",
      "Epoch 14/20\n",
      "1500/1500 [==============================] - 1s 948us/step - loss: 0.2997 - accuracy: 0.8886\n",
      "Epoch 15/20\n",
      "1500/1500 [==============================] - 1s 940us/step - loss: 0.2958 - accuracy: 0.8871\n",
      "Epoch 16/20\n",
      "1500/1500 [==============================] - 1s 943us/step - loss: 0.2972 - accuracy: 0.8885\n",
      "Epoch 17/20\n",
      "1500/1500 [==============================] - 1s 941us/step - loss: 0.2880 - accuracy: 0.8909\n",
      "Epoch 18/20\n",
      "1500/1500 [==============================] - 1s 938us/step - loss: 0.2857 - accuracy: 0.8928\n",
      "Epoch 19/20\n",
      "1500/1500 [==============================] - 1s 934us/step - loss: 0.2825 - accuracy: 0.8940\n",
      "Epoch 20/20\n",
      "1500/1500 [==============================] - 1s 936us/step - loss: 0.2804 - accuracy: 0.8957\n"
     ]
    },
    {
     "data": {
      "text/plain": [
       "<keras.src.callbacks.History at 0x21fb2c49810>"
      ]
     },
     "execution_count": 80,
     "metadata": {},
     "output_type": "execute_result"
    }
   ],
   "source": [
    "# 모델 훈련. 모델훈련은 정보를 저장하기 때문에 다시 수행하면 이전 정보를 담고 시작\n",
    "model4.fit(train_scaled, train_target, epochs=20)"
   ]
  },
  {
   "cell_type": "code",
   "execution_count": null,
   "id": "01ee8a0a",
   "metadata": {},
   "outputs": [
    {
     "name": "stdout",
     "output_type": "stream",
     "text": [
      "375/375 [==============================] - 0s 714us/step - loss: 0.3225 - accuracy: 0.8885\n"
     ]
    },
    {
     "data": {
      "text/plain": [
       "[0.32253116369247437, 0.8884999752044678]"
      ]
     },
     "execution_count": 81,
     "metadata": {},
     "output_type": "execute_result"
    }
   ],
   "source": [
    "model4.evaluate(val_scaled, val_target)\n",
    "# 훈련 89%, 검증 88% - 1차이(훈련과 검증사이의 차이가 거의 없음)"
   ]
  },
  {
   "cell_type": "markdown",
   "id": "e230f6e1",
   "metadata": {},
   "source": [
    "- 드롭아웃하면 정확도가 떨어짐 > 훈련과 검증(테스트)사이에 정확도 차이가 줄어듦\n",
    "- `과대적합`(훈련세트 훈련에 너무 치중하여서 정확도가 너무 높은 것) 방지"
   ]
  },
  {
   "cell_type": "markdown",
   "id": "65e91ad5",
   "metadata": {},
   "source": [
    "#### 모델의 저장과 복원\n",
    "- 훈련시간이 딥러닝에 크게 좌우됨. 저장이 없으면 다시 훈련시키고 시간을 소요해야 함.\n",
    "- 파일로 저장 후 모델에 대한 구조와 파라미터 만 저장하는 두가지 방법이 존재"
   ]
  },
  {
   "cell_type": "code",
   "execution_count": 82,
   "id": "dd1a2cd7",
   "metadata": {},
   "outputs": [],
   "source": [
    "# 모델4 저장 - 파라미터만 저장\n",
    "model4.save_weights('./model4-weights.h5')"
   ]
  },
  {
   "cell_type": "code",
   "execution_count": 83,
   "id": "76a9938a",
   "metadata": {},
   "outputs": [
    {
     "name": "stderr",
     "output_type": "stream",
     "text": [
      "c:\\Source\\iot-dataanalysis-2025\\mlvenv\\Lib\\site-packages\\keras\\src\\engine\\training.py:3103: UserWarning: You are saving your model as an HDF5 file via `model.save()`. This file format is considered legacy. We recommend using instead the native Keras format, e.g. `model.save('my_model.keras')`.\n",
      "  saving_api.save_model(\n"
     ]
    }
   ],
   "source": [
    "# 모델4 저장 - 전체(모델 구조와 파라미터) 저장\n",
    "model4.save('./model4-whole.h5')"
   ]
  },
  {
   "cell_type": "markdown",
   "id": "d6aef719",
   "metadata": {},
   "source": [
    "##### 모델 사용\n",
    "- 파라미터만 저장한 파일을 사용하려면, 먼저 모델을 생성해야 함"
   ]
  },
  {
   "cell_type": "code",
   "execution_count": 85,
   "id": "ada0972d",
   "metadata": {},
   "outputs": [],
   "source": [
    "model5 = keras.Sequential([\n",
    "    keras.layers.Flatten(input_shape=(28,28), name = 'Flatten5'),\n",
    "    keras.layers.Dense(100, activation='relu', name = 'hidden5'),\n",
    "    keras.layers.Dropout(0.3, name = 'dropout5'),\n",
    "    keras.layers.Dense(10, activation='softmax', name='output5')\n",
    "], name='Fashion_MNIST_RELU5')"
   ]
  },
  {
   "cell_type": "code",
   "execution_count": 86,
   "id": "43c56b23",
   "metadata": {},
   "outputs": [],
   "source": [
    "model5.load_weights('./model4-weights.h5')"
   ]
  },
  {
   "cell_type": "code",
   "execution_count": 88,
   "id": "3ae9aed9",
   "metadata": {},
   "outputs": [
    {
     "name": "stdout",
     "output_type": "stream",
     "text": [
      "313/313 [==============================] - 0s 663us/step\n"
     ]
    }
   ],
   "source": [
    "pred_result = model5.predict(test_scaled)"
   ]
  },
  {
   "cell_type": "markdown",
   "id": "ed4d7959",
   "metadata": {},
   "source": [
    "- 모델까지 전부 생성해주는 방법"
   ]
  },
  {
   "cell_type": "code",
   "execution_count": 90,
   "id": "1c5d481b",
   "metadata": {},
   "outputs": [],
   "source": [
    "model6 = keras.models.load_model('./model4-whole.h5')"
   ]
  },
  {
   "cell_type": "code",
   "execution_count": 91,
   "id": "4929de8d",
   "metadata": {},
   "outputs": [
    {
     "name": "stdout",
     "output_type": "stream",
     "text": [
      "Model: \"Fashion_MNIST_RELU\"\n",
      "_________________________________________________________________\n",
      " Layer (type)                Output Shape              Param #   \n",
      "=================================================================\n",
      " Flatten (Flatten)           (None, 784)               0         \n",
      "                                                                 \n",
      " hidden (Dense)              (None, 100)               78500     \n",
      "                                                                 \n",
      " dropout (Dropout)           (None, 100)               0         \n",
      "                                                                 \n",
      " output (Dense)              (None, 10)                1010      \n",
      "                                                                 \n",
      "=================================================================\n",
      "Total params: 79510 (310.59 KB)\n",
      "Trainable params: 79510 (310.59 KB)\n",
      "Non-trainable params: 0 (0.00 Byte)\n",
      "_________________________________________________________________\n"
     ]
    }
   ],
   "source": [
    "model6.summary()"
   ]
  },
  {
   "cell_type": "code",
   "execution_count": 92,
   "id": "9ef92afa",
   "metadata": {},
   "outputs": [
    {
     "name": "stdout",
     "output_type": "stream",
     "text": [
      "313/313 [==============================] - 0s 805us/step - loss: 0.3561 - accuracy: 0.8803\n"
     ]
    },
    {
     "data": {
      "text/plain": [
       "[0.35614457726478577, 0.880299985408783]"
      ]
     },
     "execution_count": 92,
     "metadata": {},
     "output_type": "execute_result"
    }
   ],
   "source": [
    "model6.evaluate(test_scaled, test_target)"
   ]
  },
  {
   "cell_type": "markdown",
   "id": "ca7b98c9",
   "metadata": {},
   "source": [
    "#### 콜백\n",
    "- 실행도중 다른 일을 할 수 있도록 해주는 기능\n",
    "- `조기종료`를 위해서 사용"
   ]
  },
  {
   "cell_type": "code",
   "execution_count": 93,
   "id": "c2d0361f",
   "metadata": {},
   "outputs": [],
   "source": [
    "model7 = keras.Sequential([\n",
    "    keras.layers.Flatten(input_shape=(28,28), name = 'Flatten7'),\n",
    "    keras.layers.Dense(100, activation='relu', name = 'hidden7'),\n",
    "    keras.layers.Dropout(0.3, name = 'dropout7'),\n",
    "    keras.layers.Dense(10, activation='softmax', name='output7')\n",
    "], name='Fashion_MNIST_RELU7')"
   ]
  },
  {
   "cell_type": "code",
   "execution_count": 94,
   "id": "3cdc2d55",
   "metadata": {},
   "outputs": [],
   "source": [
    "model7.compile(loss='sparse_categorical_crossentropy', metrics='accuracy', optimizer='adam')"
   ]
  },
  {
   "cell_type": "code",
   "execution_count": 95,
   "id": "f71f0412",
   "metadata": {},
   "outputs": [],
   "source": [
    "# 에포크마다 모델 저장기능 콜백\n",
    "checkpoint_cb = keras.callbacks.ModelCheckpoint('./best-model.h5', save_best_only=True) # 최고 상태면 저장\n",
    "# 조기종료 콜백\n",
    "## 두번이상 훈련값이 동일하면 조기종료. 이전 최고상태로 복구\n",
    "early_stop_cb = keras.callbacks.EarlyStopping(patience=2, restore_best_weights=True) "
   ]
  },
  {
   "cell_type": "code",
   "execution_count": 96,
   "id": "aee0f6e1",
   "metadata": {},
   "outputs": [
    {
     "name": "stdout",
     "output_type": "stream",
     "text": [
      "Epoch 1/20\n",
      "1500/1500 [==============================] - 2s 1ms/step - loss: 0.5900 - accuracy: 0.7930 - val_loss: 0.4352 - val_accuracy: 0.8440\n",
      "Epoch 2/20\n",
      " 136/1500 [=>............................] - ETA: 1s - loss: 0.4350 - accuracy: 0.8431"
     ]
    },
    {
     "name": "stderr",
     "output_type": "stream",
     "text": [
      "c:\\Source\\iot-dataanalysis-2025\\mlvenv\\Lib\\site-packages\\keras\\src\\engine\\training.py:3103: UserWarning: You are saving your model as an HDF5 file via `model.save()`. This file format is considered legacy. We recommend using instead the native Keras format, e.g. `model.save('my_model.keras')`.\n",
      "  saving_api.save_model(\n"
     ]
    },
    {
     "name": "stdout",
     "output_type": "stream",
     "text": [
      "1500/1500 [==============================] - 2s 1ms/step - loss: 0.4381 - accuracy: 0.8435 - val_loss: 0.3880 - val_accuracy: 0.8590\n",
      "Epoch 3/20\n",
      "1500/1500 [==============================] - 2s 1ms/step - loss: 0.4020 - accuracy: 0.8544 - val_loss: 0.3794 - val_accuracy: 0.8616\n",
      "Epoch 4/20\n",
      "1500/1500 [==============================] - 2s 1ms/step - loss: 0.3803 - accuracy: 0.8619 - val_loss: 0.3562 - val_accuracy: 0.8707\n",
      "Epoch 5/20\n",
      "1500/1500 [==============================] - 2s 1ms/step - loss: 0.3603 - accuracy: 0.8676 - val_loss: 0.3654 - val_accuracy: 0.8662\n",
      "Epoch 6/20\n",
      "1500/1500 [==============================] - 2s 1ms/step - loss: 0.3503 - accuracy: 0.8726 - val_loss: 0.3408 - val_accuracy: 0.8757\n",
      "Epoch 7/20\n",
      "1500/1500 [==============================] - 2s 1ms/step - loss: 0.3430 - accuracy: 0.8739 - val_loss: 0.3356 - val_accuracy: 0.8775\n",
      "Epoch 8/20\n",
      "1500/1500 [==============================] - 2s 1ms/step - loss: 0.3340 - accuracy: 0.8777 - val_loss: 0.3294 - val_accuracy: 0.8799\n",
      "Epoch 9/20\n",
      "1500/1500 [==============================] - 2s 1ms/step - loss: 0.3241 - accuracy: 0.8804 - val_loss: 0.3308 - val_accuracy: 0.8801\n",
      "Epoch 10/20\n",
      "1500/1500 [==============================] - 2s 1ms/step - loss: 0.3220 - accuracy: 0.8811 - val_loss: 0.3204 - val_accuracy: 0.8859\n",
      "Epoch 11/20\n",
      "1500/1500 [==============================] - 2s 1ms/step - loss: 0.3108 - accuracy: 0.8842 - val_loss: 0.3230 - val_accuracy: 0.8823\n",
      "Epoch 12/20\n",
      "1500/1500 [==============================] - 2s 1ms/step - loss: 0.3061 - accuracy: 0.8866 - val_loss: 0.3311 - val_accuracy: 0.8784\n"
     ]
    },
    {
     "data": {
      "text/plain": [
       "<keras.src.callbacks.History at 0x21fb3032590>"
      ]
     },
     "execution_count": 96,
     "metadata": {},
     "output_type": "execute_result"
    }
   ],
   "source": [
    "# 모델 훈련. 모델훈련은 정보를 저장하기 때문에 다시 수행하면 이전 정보를 담고 시작\n",
    "model7.fit(train_scaled, train_target, epochs=20, validation_data=(val_scaled, val_target),\n",
    "           callbacks = [checkpoint_cb, early_stop_cb])"
   ]
  },
  {
   "cell_type": "code",
   "execution_count": 97,
   "id": "e7188889",
   "metadata": {},
   "outputs": [
    {
     "name": "stdout",
     "output_type": "stream",
     "text": [
      "375/375 [==============================] - 0s 750us/step - loss: 0.3204 - accuracy: 0.8859\n"
     ]
    },
    {
     "data": {
      "text/plain": [
       "[0.32036495208740234, 0.8859166502952576]"
      ]
     },
     "execution_count": 97,
     "metadata": {},
     "output_type": "execute_result"
    }
   ],
   "source": [
    "model7.evaluate(val_scaled, val_target)"
   ]
  },
  {
   "cell_type": "code",
   "execution_count": 98,
   "id": "950ec547",
   "metadata": {},
   "outputs": [
    {
     "data": {
      "text/plain": [
       "11"
      ]
     },
     "execution_count": 98,
     "metadata": {},
     "output_type": "execute_result"
    }
   ],
   "source": [
    "early_stop_cb.stopped_epoch"
   ]
  },
  {
   "cell_type": "markdown",
   "id": "6dbee451",
   "metadata": {},
   "source": [
    "- 20번 중 15번 반복에서 조기종료"
   ]
  },
  {
   "cell_type": "markdown",
   "id": "609047d8",
   "metadata": {},
   "source": [
    "#### 결론\n",
    "- `심층 신경망` : 2개 이상의 밀집층을 포함한 신경망 모델. 다층 신경망 모델, 다층 인공신경망\n",
    "- `렐루 함수` : 시그모이드 함수의 단점을 보완한 활성화 함수\n",
    "- `옵티마이저` : 신경망의 가중치(기울기)와 절편을 학습하기 위한 알고리즘 또는 방법. Adam, SGD(확률적 경사하강법), RMSprop...\n",
    "\n",
    "- `드롭아웃` : 밀집층의 뉴런을 임의로 꺼서 훈련을 덜 시키는 것. 과대적합을 막기 위해서 수행\n",
    "- 모델 저장과 복원 : 이미 훈련된 데이터를 저장했다가 나중에 다시 쓰기 위해서\n",
    "- `콜백` : 에포크마다 모델 저장 또는 조기종료를 위해서 훈련 도중에 다른 기능을 수행하는 것"
   ]
  },
  {
   "cell_type": "code",
   "execution_count": null,
   "id": "d71a5d78",
   "metadata": {},
   "outputs": [],
   "source": []
  }
 ],
 "metadata": {
  "kernelspec": {
   "display_name": "mlvenv",
   "language": "python",
   "name": "python3"
  },
  "language_info": {
   "codemirror_mode": {
    "name": "ipython",
    "version": 3
   },
   "file_extension": ".py",
   "mimetype": "text/x-python",
   "name": "python",
   "nbconvert_exporter": "python",
   "pygments_lexer": "ipython3",
   "version": "3.11.9"
  }
 },
 "nbformat": 4,
 "nbformat_minor": 5
}
